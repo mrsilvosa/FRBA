{
 "cells": [
  {
   "cell_type": "markdown",
   "id": "23e59d93-a6c9-4ec2-be37-732bcac9b89e",
   "metadata": {},
   "source": [
    "# TO1 - Cálculo de incertidumbre"
   ]
  },
  {
   "cell_type": "markdown",
   "id": "8c4b37a6-0545-446a-89d9-5100d38984b3",
   "metadata": {},
   "source": [
    "\n",
    "\n",
    "*   **Curso:** R4052\n",
    "*   **Alumno:** Rodríguez Silvosa, Martín"
   ]
  },
  {
   "cell_type": "markdown",
   "id": "0864d1bf-19f0-4ce5-9a76-684b7eb6d9d4",
   "metadata": {},
   "source": [
    "### Inicialización:\n",
    "#### Agrego todas las librerías de Python a utilizar:"
   ]
  },
  {
   "cell_type": "code",
   "execution_count": 1,
   "id": "ee020352-6007-4944-8b1d-2960d00ba887",
   "metadata": {},
   "outputs": [
    {
     "ename": "ModuleNotFoundError",
     "evalue": "No module named 'pandas'",
     "output_type": "error",
     "traceback": [
      "\u001b[1;31m---------------------------------------------------------------------------\u001b[0m",
      "\u001b[1;31mModuleNotFoundError\u001b[0m                       Traceback (most recent call last)",
      "Cell \u001b[1;32mIn[1], line 6\u001b[0m\n\u001b[0;32m      4\u001b[0m \u001b[38;5;28;01mimport\u001b[39;00m\u001b[38;5;250m \u001b[39m\u001b[38;5;21;01mIPython\u001b[39;00m\n\u001b[0;32m      5\u001b[0m \u001b[38;5;28;01mfrom\u001b[39;00m\u001b[38;5;250m \u001b[39m\u001b[38;5;21;01mIPython\u001b[39;00m\u001b[38;5;21;01m.\u001b[39;00m\u001b[38;5;21;01mdisplay\u001b[39;00m\u001b[38;5;250m \u001b[39m\u001b[38;5;28;01mimport\u001b[39;00m display, Math\n\u001b[1;32m----> 6\u001b[0m \u001b[38;5;28;01mimport\u001b[39;00m\u001b[38;5;250m \u001b[39m\u001b[38;5;21;01mpandas\u001b[39;00m\u001b[38;5;250m \u001b[39m\u001b[38;5;28;01mas\u001b[39;00m\u001b[38;5;250m \u001b[39m\u001b[38;5;21;01mpd\u001b[39;00m\n",
      "\u001b[1;31mModuleNotFoundError\u001b[0m: No module named 'pandas'"
     ]
    }
   ],
   "source": [
    "# Librerias de pyhon a utilizar\n",
    "import numpy as np\n",
    "import math\n",
    "import IPython\n",
    "from IPython.display import display, Math\n",
    "import pandas as pd"
   ]
  },
  {
   "cell_type": "code",
   "execution_count": null,
   "id": "c924cd77-f3f2-4739-aa93-2ff70489a608",
   "metadata": {},
   "outputs": [],
   "source": []
  }
 ],
 "metadata": {
  "kernelspec": {
   "display_name": "Python 3 (ipykernel)",
   "language": "python",
   "name": "python3"
  },
  "language_info": {
   "codemirror_mode": {
    "name": "ipython",
    "version": 3
   },
   "file_extension": ".py",
   "mimetype": "text/x-python",
   "name": "python",
   "nbconvert_exporter": "python",
   "pygments_lexer": "ipython3",
   "version": "3.9.13"
  }
 },
 "nbformat": 4,
 "nbformat_minor": 5
}
