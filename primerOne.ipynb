{
 "cells": [
  {
   "cell_type": "code",
   "execution_count": 1,
   "id": "f087f641-da22-44a5-a37b-4b0efc376632",
   "metadata": {},
   "outputs": [
    {
     "name": "stdout",
     "output_type": "stream",
     "text": [
      "primer bloque\n"
     ]
    }
   ],
   "source": [
    "print(\"primer bloque\")"
   ]
  },
  {
   "cell_type": "code",
   "execution_count": null,
   "id": "31743561-4dbb-4c42-bcfb-cbd3dde32ed8",
   "metadata": {},
   "outputs": [],
   "source": []
  }
 ],
 "metadata": {
  "kernelspec": {
   "display_name": "Python 3 (ipykernel)",
   "language": "python",
   "name": "python3"
  },
  "language_info": {
   "codemirror_mode": {
    "name": "ipython",
    "version": 3
   },
   "file_extension": ".py",
   "mimetype": "text/x-python",
   "name": "python",
   "nbconvert_exporter": "python",
   "pygments_lexer": "ipython3",
   "version": "3.9.13"
  }
 },
 "nbformat": 4,
 "nbformat_minor": 5
}
