{
 "cells": [
  {
   "cell_type": "code",
   "execution_count": null,
   "id": "300322ca-8eca-4fbc-bdb7-580c9f9fb8e9",
   "metadata": {},
   "outputs": [],
   "source": []
  }
 ],
 "metadata": {
  "kernelspec": {
   "display_name": "",
   "name": ""
  },
  "language_info": {
   "name": ""
  }
 },
 "nbformat": 4,
 "nbformat_minor": 5
}
