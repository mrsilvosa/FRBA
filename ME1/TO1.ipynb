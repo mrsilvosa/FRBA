{
 "cells": [
  {
   "cell_type": "markdown",
   "id": "23e59d93-a6c9-4ec2-be37-732bcac9b89e",
   "metadata": {},
   "source": [
    "# TO1 - Cálculo de incertidumbre"
   ]
  },
  {
   "cell_type": "markdown",
   "id": "8c4b37a6-0545-446a-89d9-5100d38984b3",
   "metadata": {},
   "source": [
    "\n",
    "\n",
    "*   **Curso:** R4052\n",
    "*   **Alumno:** Rodríguez Silvosa, Martín"
   ]
  },
  {
   "cell_type": "markdown",
   "id": "0864d1bf-19f0-4ce5-9a76-684b7eb6d9d4",
   "metadata": {},
   "source": [
    "## Inicialización:\n",
    "#### Agrego todas las librerías de Python a utilizar:"
   ]
  },
  {
   "cell_type": "code",
   "execution_count": 10,
   "id": "ee020352-6007-4944-8b1d-2960d00ba887",
   "metadata": {},
   "outputs": [],
   "source": [
    "# Librerias de pyhon a utilizar\n",
    "import numpy as np\n",
    "import sympy as sp\n",
    "import math\n",
    "import IPython\n",
    "from IPython.display import display, Math\n",
    "import pandas as pd"
   ]
  },
  {
   "cell_type": "code",
   "execution_count": 43,
   "id": "c924cd77-f3f2-4739-aa93-2ff70489a608",
   "metadata": {},
   "outputs": [],
   "source": [
    "# Funciones Auxiliares a utilizar\n",
    "from typing import Any\n",
    "\n",
    "def incertidumbre_A(mediciones):\n",
    "  desviacion_estandar = np.std(mediciones, ddof=1, )  # ddof=1 -> grados de libertad v = 1/n-1\n",
    "  return desviacion_estandar/math.sqrt(len(mediciones))\n",
    "\n",
    "def incertidumbre_A_2(desviacion, n):\n",
    "  return desviacion/math.sqrt(n)\n",
    "\n",
    "def incertidumbre_B(error_relativo_porcentual, n_cuentas, contado, mediciones):\n",
    "  return (error_relativo_porcentual/100 + n_cuentas/contado) * np.mean(mediciones) / math.sqrt(3)\n",
    "\n",
    "def incertidumbre_B_2(error_relativo_porcentual, n_cuentas, contado, media):\n",
    "  return (error_relativo_porcentual/100 + n_cuentas/contado) * media / math.sqrt(3)\n",
    "\n",
    "def incertidumbre_total(uA, uB):\n",
    "  return math.sqrt(uA**2 + uB**2)\n",
    "\n",
    "def incertidumbre_C_corr(Cx1, uTx1, Cx2, uTx2, corr):\n",
    "    uc_2 = Cx1**2 * uTx1**2 + Cx2**2 * uTx2**2 + 2 * Cx1 * uTx1 * Cx2 * uTx2 * corr\n",
    "    return math.sqrt(uc_2)\n",
    "\n",
    "def valor_medio(mediciones):\n",
    "  return np.mean(mediciones)\n",
    "\n",
    "def derivada_simbolica(expresion, var):\n",
    "    variable = sp.Symbol(var)\n",
    "    derivada = sp.diff(expresion, variable)\n",
    "    return derivada\n",
    "\n",
    "def derivada_cuadrado_evaluada(expresion, var, valor):\n",
    "    variable = sp.Symbol(var)\n",
    "    derivada = sp.diff(expresion, variable)\n",
    "    derivada_cuadrada = derivada**2\n",
    "    resultado = derivada_cuadrada.subs(variable, valor)\n",
    "    return resultado.evalf()\n",
    "\n",
    "def primeras_x_cifras_significativas(num, X):\n",
    "    num_str = '{:.{}g}'.format(abs(num), X + 5)\n",
    "    solo_digitos = ''.join(c for c in num_str if c.isdigit())\n",
    "    return int(solo_digitos[:X])"
   ]
  },
  {
   "cell_type": "markdown",
   "id": "ef1818fa-c832-4052-8e9b-d3fbc13e3353",
   "metadata": {},
   "source": [
    "### Ecuaciones a utilizar:\n",
    "> Incertidumbre tipo A de una variable Vx con n muestras:\n",
    "\n",
    "$$\n",
    "u_{A}\\left(\\overline{V_{X}}\\right) = \\frac{s(V_{X})}{\\sqrt{n}} = \\frac{\\sqrt{\\frac{1}{n-1}\\sum\\limits_{i=1}^{n} \\left( V_{X_{i}} - \\overline{V_{X}} \\right)^{2}}}{\\sqrt{n}}\\\\\n",
    "$$\n",
    "$$\n",
    "\\nu = n -1\n",
    "$$\n",
    "\n",
    "> Incertidumbre tipo B de una variable Vx:\n",
    "\n",
    "$$\n",
    "u_{B}\\left(\\overline{V_{X}}\\right) = \\frac{{\\Delta}V_{X}}{\\sqrt{3}} = \\frac{(\\frac{{eR}_{\\%}}{100}+\\frac{Nºcuentas}{contado})\\overline{V_{X}}}{\\sqrt{3}}\\\\\n",
    "$$\n",
    "\n",
    "> Incertidumbre total de una variable Vx:\n",
    "\n",
    "$$\n",
    "u\\left(\\overline{V_{X}}\\right) = \\sqrt{{u_{A}\\left(\\overline{V_{X}}\\right)}^2 + {u_{B}\\left(\\overline{V_{X}}\\right)}^2}\\\\\n",
    "$$\n",
    "\n",
    "> Incertidumbre combinada de una función Y con n variables:\n",
    "\n",
    "$$\n",
    "u_{C}(Y) = \\sqrt{{\\sum\\limits_{i=1}^{n} \\left(\\left({\\frac{\\delta Y}{\\delta V_{X_{i}}}}\\right)^2 \\, {u\\left(\\overline{V_{X_{i}}}\\right)}^2\\right)}}\\\\\n",
    "$$\n",
    "\n"
   ]
  },
  {
   "cell_type": "markdown",
   "id": "5171b703-aaff-4721-9b21-db83d5e35c65",
   "metadata": {},
   "source": [
    "## Consigna:\n",
    "#### Según la función de la medición, obtenga el resultado a partir de los datos y las mediciones tomadas de la pantalla del instrumento.\n",
    "### Ejercicio 1:\n",
    "#### Función de medición: \n",
    "$$\n",
    "{\\Large e}_{m}=\\frac{R2}{R2-R1}\n",
    "$$"
   ]
  },
  {
   "cell_type": "markdown",
   "id": "75958eb3-9f4b-4d12-9b10-384cc098a0fd",
   "metadata": {},
   "source": [
    "#### Cálculos:"
   ]
  },
  {
   "cell_type": "code",
   "execution_count": 39,
   "id": "57c8d9c8-01ee-47b0-a10f-e8ff40c22917",
   "metadata": {},
   "outputs": [
    {
     "name": "stdout",
     "output_type": "stream",
     "text": [
      "Valor medio R1 = 2.028 ohm\n",
      "Valor medio R2 = 0.526 ohm\n",
      "Valor medio de la función = -0.35019973368841545 \n",
      "Valor cuadrado de derivada parcial respecto R1 = 0.0543615407931179 1/ohm^2\n",
      "Valor cuadrado de derivada parcial respecto R2 = 0.808083372570380 1/ohm^2\n",
      "Valor incertidumbre total de R1 = 0.01839565643804776 ohm\n",
      "Valor incertidumbre total de R2 = 0.014149378900650085 ohm\n",
      "Valor incertidumbre de la función = 0.013423048259058195 \n",
      "Valor incertidumbre de la función expandida, aproximación general 95% = 0.02684609651811639 \n",
      "Incertidumbre Expandida redondeada un poco = 0.0268461\n"
     ]
    }
   ],
   "source": [
    "# Datos básicos de la consigna:\n",
    "R1_mediciones = np.array([2.01, 2.04, 2.03, 2.02, 2.04])\n",
    "R2_mediciones = np.array([0.53, 0.54, 0.52, 0.51, 0.53])\n",
    "\n",
    "error_relativo_porcentual = 0.5\n",
    "n_d = 2\n",
    "\n",
    "R1_media = valor_medio(R1_mediciones)\n",
    "print(f\"Valor medio R1 = {R1_media} ohm\")\n",
    "\n",
    "R2_media = valor_medio(R2_mediciones)\n",
    "print(f\"Valor medio R2 = {R2_media} ohm\")\n",
    "\n",
    "Ci_R1 = primeras_x_cifras_significativas(R1_media,3)\n",
    "Ci_R2 = primeras_x_cifras_significativas(R2_media,3)\n",
    "\n",
    "e_m_media = R2_media/(R2_media - R1_media)\n",
    "print(f\"Valor medio de la función = {e_m_media} \")\n",
    "# expresión simbólica para derivadas parciales:\n",
    "R1, R2 = sp.symbols('R1 R2')\n",
    "e_m = R2/(R2-R1)\n",
    "\n",
    "e_m_dR1 = derivada_simbolica(e_m, 'R1')\n",
    "e_m_dR2 = derivada_simbolica(e_m, 'R2')\n",
    "\n",
    "e_m_dR1_cuadrada = e_m_dR1**2\n",
    "e_m_dR2_cuadrada = e_m_dR2**2\n",
    "\n",
    "e_m_dR1_cuadrada_res1 = e_m_dR1_cuadrada.subs(R1,R1_media)\n",
    "e_m_dR1_cuadrada_valor = e_m_dR1_cuadrada_res1.subs(R2, R2_media)\n",
    "print(f\"Valor cuadrado de derivada parcial respecto R1 = {e_m_dR1_cuadrada_valor} 1/ohm^2\")\n",
    "\n",
    "e_m_dR2_cuadrada_res1 = e_m_dR2_cuadrada.subs(R1,R1_media)\n",
    "e_m_dR2_cuadrada_valor = e_m_dR2_cuadrada_res1.subs(R2, R2_media)\n",
    "print(f\"Valor cuadrado de derivada parcial respecto R2 = {e_m_dR2_cuadrada_valor} 1/ohm^2\")\n",
    "\n",
    "# cálculos:\n",
    "uA_R1 = incertidumbre_A(R1_mediciones)\n",
    "uB_R1 = incertidumbre_B(error_relativo_porcentual,n_d,Ci_R1,R1_mediciones)\n",
    "uT_R1 = incertidumbre_total(uA_R1,uB_R1)\n",
    "print(f\"Valor incertidumbre total de R1 = {uT_R1} ohm\")\n",
    "\n",
    "uA_R2 = incertidumbre_A(R2_mediciones)\n",
    "uB_R2 = incertidumbre_B(error_relativo_porcentual,n_d,Ci_R2,R2_mediciones)\n",
    "uT_R2 = incertidumbre_total(uA_R2,uB_R2)\n",
    "print(f\"Valor incertidumbre total de R2 = {uT_R2} ohm\")\n",
    "\n",
    "uC_e_m = math.sqrt( e_m_dR1_cuadrada_valor * uT_R1**2 + e_m_dR2_cuadrada_valor * uT_R2**2)\n",
    "print(f\"Valor incertidumbre de la función = {uC_e_m} \")\n",
    "\n",
    "kp_95 = 2\n",
    "\n",
    "uC_e_m_kp_95 = uC_e_m*kp_95\n",
    "print(f\"Valor incertidumbre de la función expandida, aproximación general 95% = {uC_e_m_kp_95} \")\n",
    "\n",
    "print(f\"Incertidumbre Expandida redondeada un poco = {round(uC_e_m_kp_95, 8)}\")"
   ]
  },
  {
   "cell_type": "markdown",
   "id": "c14735f0-5528-4a81-8ce2-8238aa1e2714",
   "metadata": {},
   "source": [
    "#### Resultado final:\n",
    "\n",
    "$$\n",
    "Resultado: {\\Large e}_{m} = \\left( -0.350 \\ \\pm 0.027 \\right) \\  \\qquad k = 2 \\qquad P = 95\\%\n",
    "$$"
   ]
  },
  {
   "cell_type": "code",
   "execution_count": 28,
   "id": "bedb06e8-ca9f-4654-ba30-ab2de58b96f2",
   "metadata": {},
   "outputs": [
    {
     "name": "stdout",
     "output_type": "stream",
     "text": [
      "2*R1 + 3*R2 + 5*cos(R1)\n"
     ]
    }
   ],
   "source": [
    "R1, R2 = sp.symbols('R1 R2')\n",
    "y = R1**2 + 3*R1*R2 + 5*sp.sin(R1)\n",
    "derivada = derivada_simbolica(y, 'R1')\n",
    "print(derivada)  # Output: 2*x + 3"
   ]
  },
  {
   "cell_type": "code",
   "execution_count": 29,
   "id": "443faa44-498a-433b-904a-3359bb17d92f",
   "metadata": {},
   "outputs": [
    {
     "name": "stdout",
     "output_type": "stream",
     "text": [
      "(3*R2 + 5*cos(3) + 6)**2\n"
     ]
    }
   ],
   "source": [
    "derivada_cuadrada = derivada**2\n",
    "resultado = derivada_cuadrada.subs(R1,3)\n",
    "print(resultado)"
   ]
  },
  {
   "cell_type": "code",
   "execution_count": 30,
   "id": "a9237a99-cb58-4bda-abcf-b4d27e3a016b",
   "metadata": {},
   "outputs": [
    {
     "name": "stdout",
     "output_type": "stream",
     "text": [
      "(5*cos(3) + 12)**2\n"
     ]
    }
   ],
   "source": [
    "resultado2 = resultado.subs(R2,2)\n",
    "print(resultado2)"
   ]
  },
  {
   "cell_type": "markdown",
   "id": "818c2ac8-796e-47aa-8d17-3633675adb3c",
   "metadata": {},
   "source": [
    "### Ejercicio 2:\n",
    "#### Función de medición: \n",
    "$$\n",
    "\\Delta V = V1 - V2\n",
    "$$"
   ]
  },
  {
   "cell_type": "markdown",
   "id": "8a52f9c9-3e92-4578-bf79-70013edff786",
   "metadata": {},
   "source": [
    "#### Cálculos:"
   ]
  },
  {
   "cell_type": "code",
   "execution_count": 40,
   "id": "5b0e124e-853f-4470-8dd0-38f6b06b95c4",
   "metadata": {},
   "outputs": [
    {
     "name": "stdout",
     "output_type": "stream",
     "text": [
      "Valor medio V1 = 2.3634 volts\n",
      "Valor medio V2 = 0.538 volts\n",
      "Valor medio de la función = 1.8254 volts\n",
      "Valor cuadrado de derivada parcial respecto V1 = 1 \n",
      "Valor cuadrado de derivada parcial respecto V2 = 1 \n",
      "Valor incertidumbre total de V1 = 0.09363332617722848 volts\n",
      "Valor incertidumbre total de V2 = 0.029133891096230612 volts\n",
      "Valor incertidumbre de la función = 0.09806112064125255 volts\n",
      "Valor incertidumbre de la función expandida, aproximación general 95% = 0.1961222412825051 volts\n",
      "Incertidumbre Expandida redondeada un poco = 0.19612224 volts\n"
     ]
    }
   ],
   "source": [
    "# Datos básicos de la consigna:\n",
    "V1_mediciones = np.array([2.404, 2.502, 2.603, 2.104, 2.204])\n",
    "V2_mediciones = np.array([0.54, 0.58, 0.51, 0.50, 0.56])\n",
    "\n",
    "error_relativo_porcentual_V1 = 1\n",
    "n_d_V1 = 2\n",
    "error_relativo_porcentual_V2 = 0.5\n",
    "n_d_V2 = 4\n",
    "\n",
    "V1_media = valor_medio(V1_mediciones)\n",
    "print(f\"Valor medio V1 = {V1_media} volts\")\n",
    "\n",
    "V2_media = valor_medio(V2_mediciones)\n",
    "print(f\"Valor medio V2 = {V2_media} volts\")\n",
    "\n",
    "Ci_V1 = primeras_x_cifras_significativas(V1_media,4)\n",
    "Ci_V2 = primeras_x_cifras_significativas(V2_media,3)\n",
    "\n",
    "delta_V_media = V1_media - V2_media\n",
    "print(f\"Valor medio de la función = {delta_V_media} volts\")\n",
    "# expresión simbólica para derivadas parciales:\n",
    "V1, V2 = sp.symbols('V1 V2')\n",
    "delta_V = V1 - V2\n",
    "\n",
    "delta_V_dV1 = derivada_simbolica(delta_V, 'V1')\n",
    "delta_V_dV2 = derivada_simbolica(delta_V, 'V2')\n",
    "\n",
    "delta_V_dV1_cuadrada = delta_V_dV1**2\n",
    "delta_V_dV2_cuadrada = delta_V_dV2**2\n",
    "\n",
    "delta_V_dV1_cuadrada_res1 = delta_V_dV1_cuadrada.subs(V1,V1_media)\n",
    "delta_V_dV1_cuadrada_valor = delta_V_dV1_cuadrada_res1.subs(V2, V2_media)\n",
    "print(f\"Valor cuadrado de derivada parcial respecto V1 = {delta_V_dV1_cuadrada_valor} \")\n",
    "\n",
    "delta_V_dV2_cuadrada_res1 = delta_V_dV2_cuadrada.subs(V1,V1_media)\n",
    "delta_V_dV2_cuadrada_valor = delta_V_dV2_cuadrada_res1.subs(V2, V2_media)\n",
    "print(f\"Valor cuadrado de derivada parcial respecto V2 = {delta_V_dV2_cuadrada_valor} \")\n",
    "\n",
    "# cálculos:\n",
    "uA_V1 = incertidumbre_A(V1_mediciones)\n",
    "uB_V1 = incertidumbre_B(error_relativo_porcentual_V1,n_d_V1,Ci_V1,V1_mediciones)\n",
    "uT_V1 = incertidumbre_total(uA_V1,uB_V1)\n",
    "print(f\"Valor incertidumbre total de V1 = {uT_V1} volts\")\n",
    "\n",
    "uA_V2 = incertidumbre_A(V2_mediciones)\n",
    "uB_V2 = incertidumbre_B(error_relativo_porcentual_V2,n_d_V2,Ci_V2,V2_mediciones)\n",
    "uT_V2 = incertidumbre_total(uA_V2,uB_V2)\n",
    "print(f\"Valor incertidumbre total de V2 = {uT_V2} volts\")\n",
    "\n",
    "uC_delta_V = math.sqrt( delta_V_dV1_cuadrada_valor * uT_V1**2 + delta_V_dV2_cuadrada_valor * uT_V2**2)\n",
    "print(f\"Valor incertidumbre de la función = {uC_delta_V} volts\")\n",
    "\n",
    "kp_95 = 2\n",
    "\n",
    "uC_delta_V_kp_95 = uC_delta_V*kp_95\n",
    "print(f\"Valor incertidumbre de la función expandida, aproximación general 95% = {uC_delta_V_kp_95} volts\")\n",
    "\n",
    "print(f\"Incertidumbre Expandida redondeada un poco = {round(uC_delta_V_kp_95, 8)} volts\")"
   ]
  },
  {
   "cell_type": "markdown",
   "id": "66497c33-0de4-45ca-8885-d275ae01ff11",
   "metadata": {},
   "source": [
    "#### Resultado final:\n",
    "\n",
    "$$\n",
    "Resultado: \\Delta V = \\left( 1.82 \\ \\pm 0.20 \\right) V  \\qquad k = 2 \\qquad P = 95\\%\n",
    "$$"
   ]
  },
  {
   "cell_type": "markdown",
   "id": "a9831fe9-5621-4c05-9d04-b232ee276b0e",
   "metadata": {},
   "source": [
    "### Ejercicio 3:\n",
    "#### Función de medición: \n",
    "$$\n",
    "V_{OUT} = V_{OFF} + a_s \\cdot g \\cdot sen(\\theta)\n",
    "$$"
   ]
  },
  {
   "cell_type": "markdown",
   "id": "a3256f9f-09da-46b8-86b7-bb9a42d6cfb3",
   "metadata": {},
   "source": [
    "#### Cálculos:"
   ]
  },
  {
   "cell_type": "code",
   "execution_count": 42,
   "id": "ca6867f5-0cad-4e61-9ad0-8b64c6c25685",
   "metadata": {},
   "outputs": [
    {
     "name": "stdout",
     "output_type": "stream",
     "text": [
      "Valor medio de la función = 12.315493926874321 volts\n",
      "Valor cuadrado de derivada parcial respecto theta = 2.03544195010701 volts\n",
      "Valor cuadrado de derivada parcial respecto Voff = 1 \n",
      "Valor incertidumbre total de theta = 0.017634993938190055 rad\n",
      "Valor incertidumbre total de Voff = 0.0697280339605241 volts\n",
      "Valor incertidumbre de la función = 0.07412831403172866 volts\n",
      "Valor incertidumbre de la función expandida, aproximación general 95% = 0.14825662806345732 volts\n",
      "Incertidumbre Expandida redondeada un poco = 0.14825663 volts\n"
     ]
    }
   ],
   "source": [
    "# Datos básicos de la consigna:\n",
    "theta_media = 30.028\n",
    "Voff_media = 20.03\n",
    "\n",
    "theta_desvio = 0.001304\n",
    "Voff_desvio = 0.01581\n",
    "\n",
    "n = 5\n",
    "\n",
    "error_relativo_porcentual_theta = 0.1\n",
    "n_d_theta = 0.5\n",
    "error_relativo_porcentual_Voff = 0.5\n",
    "n_d_Voff = 2\n",
    "\n",
    "a_s = 0.8 # volts\n",
    "g = 9.80665 # aceleración gravedad\n",
    "\n",
    "Ci_theta = primeras_x_cifras_significativas(theta_media,5)\n",
    "Ci_Voff = primeras_x_cifras_significativas(Voff_media,4)\n",
    "\n",
    "Vout_media = Voff_media + a_s * g * math.sin(theta_media)\n",
    "print(f\"Valor medio de la función = {Vout_media} volts\")\n",
    "# expresión simbólica para derivadas parciales:\n",
    "theta, Voff = sp.symbols('theta Voff')\n",
    "Vout = Voff + a_s * g * sp.sin(theta)\n",
    "\n",
    "Vout_dtheta = derivada_simbolica(Vout, 'theta')\n",
    "Vout_dVoff = derivada_simbolica(Vout, 'Voff')\n",
    "\n",
    "Vout_dtheta_cuadrada = Vout_dtheta**2\n",
    "Vout_dVoff_cuadrada = Vout_dVoff**2\n",
    "\n",
    "Vout_dtheta_cuadrada_res1 = Vout_dtheta_cuadrada.subs(theta,theta_media)\n",
    "Vout_dtheta_cuadrada_valor = Vout_dtheta_cuadrada_res1.subs(Voff, Voff_media)\n",
    "print(f\"Valor cuadrado de derivada parcial respecto theta = {Vout_dtheta_cuadrada_valor} volts\")\n",
    "\n",
    "Vout_dVoff_cuadrada_res1 = Vout_dVoff_cuadrada.subs(theta,theta_media)\n",
    "Vout_dVoff_cuadrada_valor = Vout_dVoff_cuadrada_res1.subs(Voff, Voff_media)\n",
    "print(f\"Valor cuadrado de derivada parcial respecto Voff = {Vout_dVoff_cuadrada_valor} \")\n",
    "\n",
    "# cálculos:\n",
    "uA_theta = incertidumbre_A_2(theta_desvio,n)\n",
    "uB_theta = incertidumbre_B_2(error_relativo_porcentual_theta,n_d_theta,Ci_theta,theta_media)\n",
    "uT_theta = incertidumbre_total(uA_theta,uB_theta)\n",
    "print(f\"Valor incertidumbre total de theta = {uT_theta} rad\")\n",
    "\n",
    "uA_Voff = incertidumbre_A_2(Voff_desvio,n)\n",
    "uB_Voff = incertidumbre_B_2(error_relativo_porcentual_Voff,n_d_Voff,Ci_Voff,Voff_media)\n",
    "uT_Voff = incertidumbre_total(uA_Voff,uB_Voff)\n",
    "print(f\"Valor incertidumbre total de Voff = {uT_Voff} volts\")\n",
    "\n",
    "uC_Vout = math.sqrt( Vout_dtheta_cuadrada_valor * uT_theta**2 + Vout_dVoff_cuadrada_valor * uT_Voff**2)\n",
    "print(f\"Valor incertidumbre de la función = {uC_Vout} volts\")\n",
    "\n",
    "kp_95 = 2\n",
    "\n",
    "uC_Vout_kp_95 = uC_Vout*kp_95\n",
    "print(f\"Valor incertidumbre de la función expandida, aproximación general 95% = {uC_Vout_kp_95} volts\")\n",
    "\n",
    "print(f\"Incertidumbre Expandida redondeada un poco = {round(uC_Vout_kp_95, 8)} volts\")"
   ]
  },
  {
   "cell_type": "markdown",
   "id": "c4d48fb9-caa2-4d5a-b6cd-42d9a7a4ec01",
   "metadata": {},
   "source": [
    "#### Resultado final:\n",
    "\n",
    "$$\n",
    "Resultado: V_{out} = \\left( 12.31 \\ \\pm 0.15 \\right) V  \\qquad k = 2 \\qquad P = 95\\%\n",
    "$$"
   ]
  },
  {
   "cell_type": "markdown",
   "id": "cd838a2f-8851-44a6-ac8d-b9e7e5e91c74",
   "metadata": {},
   "source": [
    "### Ejercicio 4:\n",
    "#### Función de medición: \n",
    "$$\n",
    "R = \\frac{V}{I}\n",
    "$$"
   ]
  },
  {
   "cell_type": "markdown",
   "id": "5e7836b0-ee2e-4e13-adf8-3f511fec56a2",
   "metadata": {},
   "source": [
    "#### Cálculos:"
   ]
  },
  {
   "cell_type": "code",
   "execution_count": 45,
   "id": "21768ed6-1fb5-471c-b039-2aa3cb913eab",
   "metadata": {},
   "outputs": [
    {
     "name": "stdout",
     "output_type": "stream",
     "text": [
      "Valor medio V = 2.0224 volts\n",
      "Valor medio I = 0.5416000000000001 ampers\n",
      "Valor medio de la función = 3.734121122599704 ohms\n",
      "Valor de derivada parcial respecto V = 1.84638109305761 1/amper\n",
      "Valor de derivada parcial respecto I = -6.89461063995514 V/amper^2\n",
      "Valor incertidumbre total de V = 0.006490016447804106 volts\n",
      "Valor incertidumbre total de I = 0.004968737935920249 ampers\n",
      "Valor incertidumbre de la función = 0.028283013816892764 ohms\n",
      "Valor incertidumbre de la función expandida, aproximación general 95% = 0.05656602763378553 ohms\n",
      "Incertidumbre Expandida redondeada un poco = 0.05656603 ohms\n"
     ]
    }
   ],
   "source": [
    "# Datos básicos de la consigna:\n",
    "V_mediciones = np.array([2.021, 2.023, 2.026, 2.021, 2.021])\n",
    "I_mediciones = np.array([0.541, 0.542, 0.544, 0.543, 0.538])\n",
    "\n",
    "error_relativo_porcentual_V = 0.5\n",
    "n_d_V = 1\n",
    "error_relativo_porcentual_I = 1\n",
    "n_d_I = 3\n",
    "\n",
    "corr = 0.63\n",
    "\n",
    "V_media = valor_medio(V_mediciones)\n",
    "print(f\"Valor medio V = {V_media} volts\")\n",
    "\n",
    "I_media = valor_medio(I_mediciones)\n",
    "print(f\"Valor medio I = {I_media} ampers\")\n",
    "\n",
    "Ci_V = primeras_x_cifras_significativas(V_media,4)\n",
    "Ci_I = primeras_x_cifras_significativas(I_media,4)\n",
    "\n",
    "R_media = V_media/I_media\n",
    "print(f\"Valor medio de la función = {R_media} ohms\")\n",
    "# expresión simbólica para derivadas parciales:\n",
    "V, I = sp.symbols('V I')\n",
    "R = V/I\n",
    "\n",
    "R_dV = derivada_simbolica(R, 'V')\n",
    "R_dI = derivada_simbolica(R, 'I')\n",
    "\n",
    "R_dV_res1 = R_dV.subs(V,V_media)\n",
    "R_dV_valor = R_dV_res1.subs(I, I_media)\n",
    "print(f\"Valor de derivada parcial respecto V = {R_dV_valor} 1/amper\")\n",
    "\n",
    "R_dI_res1 = R_dI.subs(V,V_media)\n",
    "R_dI_valor = R_dI_res1.subs(I, I_media)\n",
    "print(f\"Valor de derivada parcial respecto I = {R_dI_valor} V/amper^2\")\n",
    "\n",
    "# cálculos:\n",
    "uA_V = incertidumbre_A(V_mediciones)\n",
    "uB_V = incertidumbre_B(error_relativo_porcentual_V,n_d_V,Ci_V,V_mediciones)\n",
    "uT_V = incertidumbre_total(uA_V,uB_V)\n",
    "print(f\"Valor incertidumbre total de V = {uT_V} volts\")\n",
    "\n",
    "uA_I = incertidumbre_A(I_mediciones)\n",
    "uB_I = incertidumbre_B(error_relativo_porcentual_I,n_d_I,Ci_I,I_mediciones)\n",
    "uT_I = incertidumbre_total(uA_I,uB_I)\n",
    "print(f\"Valor incertidumbre total de I = {uT_I} ampers\")\n",
    "\n",
    "uC_R = incertidumbre_C_corr(R_dV_valor, uT_V, R_dI_valor, uT_I, corr)\n",
    "print(f\"Valor incertidumbre de la función = {uC_R} ohms\")\n",
    "\n",
    "kp_95 = 2\n",
    "\n",
    "uC_R_kp_95 = uC_R*kp_95\n",
    "print(f\"Valor incertidumbre de la función expandida, aproximación general 95% = {uC_R_kp_95} ohms\")\n",
    "\n",
    "print(f\"Incertidumbre Expandida redondeada un poco = {round(uC_R_kp_95, 8)} ohms\")"
   ]
  },
  {
   "cell_type": "markdown",
   "id": "0e7cb4b2-5249-47af-b8ba-1944b6917605",
   "metadata": {},
   "source": [
    "#### Resultado final:\n",
    "\n",
    "$$\n",
    "Resultado: R = \\left( 3.734 \\ \\pm 0.057 \\right) \\Omega  \\qquad k = 2 \\qquad P = 95\\%\n",
    "$$"
   ]
  },
  {
   "cell_type": "markdown",
   "id": "741db652-1972-4123-85fa-c9603a61121d",
   "metadata": {},
   "source": [
    "### Ejercicio 5:\n",
    "#### Función de medición: \n",
    "$$\n",
    "V_0 = \\left( H_1 - H_0 \\right) \\cdot K_H \\cdot S \\cdot A_V\n",
    "$$\n",
    "\n",
    "$$\n",
    "A_V = 1 + \\frac{50 K\\Omega}{R_G}\n",
    "$$\n",
    "\n"
   ]
  },
  {
   "cell_type": "markdown",
   "id": "149a9356-0166-46cc-9a9e-676f3df035ae",
   "metadata": {},
   "source": [
    "#### Cálculos:"
   ]
  },
  {
   "cell_type": "code",
   "execution_count": 50,
   "id": "f0f70ed8-0894-4e4e-9c1a-da601cff86be",
   "metadata": {},
   "outputs": [
    {
     "name": "stdout",
     "output_type": "stream",
     "text": [
      "Valor medio H0 = 0.14020000000000002 metros\n",
      "Valor medio H1 = 4.5348 metros\n",
      "Valor medio RG = 11.14 ohms\n",
      "Valor medio de la función = 77.41585482332638 volts\n",
      "Valor cuadrado de derivada parcial respecto H0 = 310.328115749945 \n",
      "Valor cuadrado de derivada parcial respecto H1 = 310.328115749945 \n",
      "Valor cuadrado de derivada parcial respecto RG = 48.2720725437629 \n",
      "Valor cuadrado de derivada parcial respecto S = 37457591112.6647 \n",
      "Valor incertidumbre total de H0 = 0.004337845589690807 metros\n",
      "Valor incertidumbre total de H1 = 0.015327090374888505 metros\n",
      "Valor incertidumbre total de RG = 0.3500245639070368 ohms\n",
      "Valor incertidumbre de la función = 3.7974805521171664 volts\n",
      "Valor incertidumbre de la función expandida, aproximación general 95% = 7.594961104234333 volts\n",
      "Incertidumbre Expandida redondeada un poco = 7.5949611 volts\n"
     ]
    }
   ],
   "source": [
    "# Datos básicos de la consigna:\n",
    "H0_mediciones = np.array([0.145, 0.123, 0.145, 0.145, 0.143])\n",
    "H1_mediciones = np.array([4.525, 4.524, 4.521, 4.553, 4.551])\n",
    "RG_mediciones = np.array([10.1, 11.1, 11.2, 12.1, 11.2])\n",
    "\n",
    "error_relativo_porcentual_R = 0.5\n",
    "n_d_R = 2\n",
    "\n",
    "K_H = 9.810 # kilopascal/metro\n",
    "\n",
    "S_incertidumbre = 0.000015 # volts/kilopascal\n",
    "\n",
    "H0_media = valor_medio(H0_mediciones)\n",
    "print(f\"Valor medio H0 = {H0_media} metros\")\n",
    "\n",
    "H1_media = valor_medio(H1_mediciones)\n",
    "print(f\"Valor medio H1 = {H1_media} metros\")\n",
    "\n",
    "RG_media = valor_medio(RG_mediciones)\n",
    "print(f\"Valor medio RG = {RG_media} ohms\")\n",
    "\n",
    "S_media = 0.0004 # volts/kilopascal\n",
    "\n",
    "Ci_RG = primeras_x_cifras_significativas(RG_media,3)\n",
    "\n",
    "V0_media = (H1_media - H0_media) * K_H * S_media * (1+ 50000/RG_media)\n",
    "print(f\"Valor medio de la función = {V0_media} volts\")\n",
    "# expresión simbólica para derivadas parciales:\n",
    "H0, H1, RG, S = sp.symbols('H0 H1 RG S')\n",
    "V0 = (H1 - H0) * K_H * S * (1+ 50000/RG)\n",
    "\n",
    "V0_dH0= derivada_simbolica(V0, 'H0')\n",
    "## print(V0_dH0)\n",
    "V0_dH1 = derivada_simbolica(V0, 'H1')\n",
    "## print(V0_dH1)\n",
    "V0_dRG = derivada_simbolica(V0, 'RG')\n",
    "## print(V0_dRG)\n",
    "V0_dS = derivada_simbolica(V0, 'S')\n",
    "## print(V0_dS)\n",
    "\n",
    "V0_dH0_cuadrada = V0_dH0**2\n",
    "V0_dH1_cuadrada = V0_dH1**2\n",
    "V0_dRG_cuadrada = V0_dRG**2\n",
    "V0_dS_cuadrada = V0_dS**2\n",
    "\n",
    "V0_dH0_cuadrada_res1 = V0_dH0_cuadrada.subs(H0,H0_media)\n",
    "V0_dH0_cuadrada_res2 = V0_dH0_cuadrada_res1.subs(H1,H1_media)\n",
    "V0_dH0_cuadrada_res3 = V0_dH0_cuadrada_res2.subs(RG,RG_media)\n",
    "V0_dH0_cuadrada_valor = V0_dH0_cuadrada_res3.subs(S, S_media)\n",
    "print(f\"Valor cuadrado de derivada parcial respecto H0 = {V0_dH0_cuadrada_valor} \")\n",
    "\n",
    "V0_dH1_cuadrada_res1 = V0_dH1_cuadrada.subs(H0,H0_media)\n",
    "V0_dH1_cuadrada_res2 = V0_dH1_cuadrada_res1.subs(H1,H1_media)\n",
    "V0_dH1_cuadrada_res3 = V0_dH1_cuadrada_res2.subs(RG,RG_media)\n",
    "V0_dH1_cuadrada_valor = V0_dH1_cuadrada_res3.subs(S, S_media)\n",
    "print(f\"Valor cuadrado de derivada parcial respecto H1 = {V0_dH1_cuadrada_valor} \")\n",
    "\n",
    "V0_dRG_cuadrada_res1 = V0_dRG_cuadrada.subs(H0,H0_media)\n",
    "V0_dRG_cuadrada_res2 = V0_dRG_cuadrada_res1.subs(H1,H1_media)\n",
    "V0_dRG_cuadrada_res3 = V0_dRG_cuadrada_res2.subs(RG,RG_media)\n",
    "V0_dRG_cuadrada_valor = V0_dRG_cuadrada_res3.subs(S, S_media)\n",
    "print(f\"Valor cuadrado de derivada parcial respecto RG = {V0_dRG_cuadrada_valor} \")\n",
    "\n",
    "V0_dS_cuadrada_res1 = V0_dS_cuadrada.subs(H0,H0_media)\n",
    "V0_dS_cuadrada_res2 = V0_dS_cuadrada_res1.subs(H1,H1_media)\n",
    "V0_dS_cuadrada_res3 = V0_dS_cuadrada_res2.subs(RG,RG_media)\n",
    "V0_dS_cuadrada_valor = V0_dS_cuadrada_res3.subs(S, S_media)\n",
    "print(f\"Valor cuadrado de derivada parcial respecto S = {V0_dS_cuadrada_valor} \")\n",
    "\n",
    "# cálculos:\n",
    "uA_H0 = incertidumbre_A(H0_mediciones)\n",
    "# uB_H0 = valor_medio(H0_mediciones*0.003)/len(H0_mediciones)\n",
    "uB_H0 = H0_media * 0.003\n",
    "uT_H0 = incertidumbre_total(uA_H0,uB_H0)\n",
    "print(f\"Valor incertidumbre total de H0 = {uT_H0} metros\")\n",
    "\n",
    "uA_H1 = incertidumbre_A(H1_mediciones)\n",
    "# uB_H1 = valor_medio(H1_mediciones*0.003)/len(H1_mediciones)\n",
    "uB_H1 = H1_media * 0.003\n",
    "uT_H1 = incertidumbre_total(uA_H1,uB_H1)\n",
    "print(f\"Valor incertidumbre total de H1 = {uT_H1} metros\")\n",
    "\n",
    "uA_RG = incertidumbre_A(RG_mediciones)\n",
    "uB_RG = incertidumbre_B(error_relativo_porcentual_R,n_d_R,Ci_RG,RG_mediciones)\n",
    "uT_RG = incertidumbre_total(uA_RG,uB_RG)\n",
    "print(f\"Valor incertidumbre total de RG = {uT_RG} ohms\")\n",
    "\n",
    "uC_V0= math.sqrt( V0_dH0_cuadrada_valor * uT_H0**2 + V0_dH1_cuadrada_valor * uT_H1**2 + V0_dRG_cuadrada_valor * uT_RG**2 + V0_dS_cuadrada_valor * S_incertidumbre**2)\n",
    "print(f\"Valor incertidumbre de la función = {uC_V0} volts\")\n",
    "\n",
    "kp_95 = 2\n",
    "\n",
    "uC_V0_kp_95 = uC_V0*kp_95\n",
    "print(f\"Valor incertidumbre de la función expandida, aproximación general 95% = {uC_V0_kp_95} volts\")\n",
    "\n",
    "print(f\"Incertidumbre Expandida redondeada un poco = {round(uC_V0_kp_95, 8)} volts\")"
   ]
  },
  {
   "cell_type": "markdown",
   "id": "99111e04-ccc8-4cb4-907b-8c50a4a6ea80",
   "metadata": {},
   "source": [
    "#### Resultado final:\n",
    "\n",
    "$$\n",
    "Resultado: V_0 = \\left( 77.4 \\ \\pm 7.6 \\right) V  \\qquad k = 2 \\qquad P = 95\\%\n",
    "$$"
   ]
  },
  {
   "cell_type": "code",
   "execution_count": null,
   "id": "53f3e2ce-b89a-498c-8e86-6ac12cb36b1d",
   "metadata": {},
   "outputs": [],
   "source": []
  }
 ],
 "metadata": {
  "kernelspec": {
   "display_name": "Python 3 (ipykernel)",
   "language": "python",
   "name": "python3"
  },
  "language_info": {
   "codemirror_mode": {
    "name": "ipython",
    "version": 3
   },
   "file_extension": ".py",
   "mimetype": "text/x-python",
   "name": "python",
   "nbconvert_exporter": "python",
   "pygments_lexer": "ipython3",
   "version": "3.9.13"
  }
 },
 "nbformat": 4,
 "nbformat_minor": 5
}
